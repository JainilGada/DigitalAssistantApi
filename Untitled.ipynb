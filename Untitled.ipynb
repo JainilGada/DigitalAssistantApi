{
 "cells": [
  {
   "cell_type": "code",
   "execution_count": 19,
   "metadata": {},
   "outputs": [],
   "source": [
    "import time\n",
    "import numpy as np\n",
    "from keras.preprocessing.image import ImageDataGenerator, img_to_array, load_img\n",
    "from keras.models import Sequential\n",
    "from keras.layers import Dropout, Flatten, Dense\n",
    "from keras import applications\n",
    "from keras.utils.np_utils import to_categorical\n",
    "#import matplotlib.pyplot as plt\n",
    "import math\n",
    "import cv2\n",
    "import os\n"
   ]
  },
  {
   "cell_type": "code",
   "execution_count": 20,
   "metadata": {},
   "outputs": [],
   "source": [
    "\n",
    "img_width, img_height = 224, 224\n",
    "\n",
    "top_model_weights_path = './file_app/bottleneck_fc_model.h5'"
   ]
  },
  {
   "cell_type": "code",
   "execution_count": 21,
   "metadata": {},
   "outputs": [],
   "source": [
    "def predict(image_path):\n",
    "    \n",
    "    image_path = os.getcwd()+image_path\n",
    "    print(image_path)\n",
    "    # load the class_indices saved in the earlier step\n",
    "    class_dictionary = np.load('./file_app/class_indices.npy').item()\n",
    "\n",
    "    num_classes = len(class_dictionary)\n",
    "\n",
    "    # add the path to your test image below\n",
    "    \n",
    "    #image_path = 'test500.jpg'\n",
    "    orig = cv2.imread(image_path)\n",
    "\n",
    "    print(\"[INFO] loading and preprocessing image...\")\n",
    "    image = load_img(image_path, target_size=(224, 224))\n",
    "    image = img_to_array(image)\n",
    "\n",
    "    # important! otherwise the predictions will be '0'\n",
    "    image = image / 255\n",
    "\n",
    "    image = np.expand_dims(image, axis=0)\n",
    "\n",
    "    # build the VGG16 network\n",
    "    model = applications.VGG16(include_top=False,weights='imagenet')\n",
    "\n",
    "    # get the bottleneck prediction from the pre-trained VGG16 model\n",
    "    bottleneck_prediction = model.predict(image)\n",
    "\n",
    "    # build top model\n",
    "    model = Sequential()\n",
    "    model.add(Flatten(input_shape=bottleneck_prediction.shape[1:]))\n",
    "    model.add(Dense(256, activation='relu'))\n",
    "    model.add(Dropout(0.5))\n",
    "    model.add(Dense(num_classes, activation='sigmoid'))\n",
    "\n",
    "    model.load_weights(top_model_weights_path)\n",
    "\n",
    "    # use the bottleneck prediction on the top model to get the final\n",
    "    # classification\n",
    "    class_predicted = model.predict_classes(bottleneck_prediction)\n",
    "\n",
    "    probabilities = model.predict_proba(bottleneck_prediction)\n",
    "\n",
    "    inID = class_predicted[0]\n",
    "\n",
    "    inv_map = {v: k for k, v in class_dictionary.items()}\n",
    "\n",
    "    label = inv_map[inID]\n",
    "\n",
    "    # get the prediction label\n",
    "#  print(\"Image ID: {}, Label: {}\".format(inID, label))\n",
    "\n",
    "    # display the predictions with the image\n",
    "#    cv2.putText(orig, \"Predicted: {}\".format(label), (10, 100),\n",
    "#               cv2.FONT_HERSHEY_PLAIN, 10, (0, 255, 0),7)\n",
    "\n",
    "    #cv2.imshow(\"Classification\", orig)\n",
    "    return label"
   ]
  },
  {
   "cell_type": "code",
   "execution_count": 24,
   "metadata": {},
   "outputs": [
    {
     "name": "stdout",
     "output_type": "stream",
     "text": [
      "/home/jainil/be/api/fileupload/media/IMG_20180404_191510.jpg\n",
      "[INFO] loading and preprocessing image...\n"
     ]
    },
    {
     "data": {
      "text/plain": [
       "'20RupeeNote'"
      ]
     },
     "execution_count": 24,
     "metadata": {},
     "output_type": "execute_result"
    }
   ],
   "source": [
    "predict('/media/IMG_20180404_191510.jpg')"
   ]
  },
  {
   "cell_type": "code",
   "execution_count": 9,
   "metadata": {},
   "outputs": [
    {
     "data": {
      "text/plain": [
       "'/home/jainil/be/api/fileupload'"
      ]
     },
     "execution_count": 9,
     "metadata": {},
     "output_type": "execute_result"
    }
   ],
   "source": [
    "os.getcwd()"
   ]
  },
  {
   "cell_type": "code",
   "execution_count": null,
   "metadata": {},
   "outputs": [],
   "source": []
  },
  {
   "cell_type": "code",
   "execution_count": null,
   "metadata": {},
   "outputs": [],
   "source": []
  }
 ],
 "metadata": {
  "kernelspec": {
   "display_name": "Python 3",
   "language": "python",
   "name": "python3"
  },
  "language_info": {
   "codemirror_mode": {
    "name": "ipython",
    "version": 3
   },
   "file_extension": ".py",
   "mimetype": "text/x-python",
   "name": "python",
   "nbconvert_exporter": "python",
   "pygments_lexer": "ipython3",
   "version": "3.6.5"
  }
 },
 "nbformat": 4,
 "nbformat_minor": 2
}
