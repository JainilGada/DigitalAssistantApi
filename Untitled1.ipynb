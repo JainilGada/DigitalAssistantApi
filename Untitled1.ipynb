{
 "cells": [
  {
   "cell_type": "code",
   "execution_count": 1,
   "metadata": {},
   "outputs": [],
   "source": [
    "from semantics3 import Products\n",
    "\n",
    "# Set up a client to talk to the Semantics3 API using your Semantics3 API Credentials\n",
    "sem3 = Products(\n",
    "    api_key = \"SEM3DB87FEB642E9AFD4E840BEE96EDB059B\",\n",
    "    api_secret = \"NTE5MTA3MWMwYmEyZTEyMjc1MTVhOTllZDFjZjc3MjA\"\n",
    ")"
   ]
  },
  {
   "cell_type": "code",
   "execution_count": 4,
   "metadata": {},
   "outputs": [
    {
     "name": "stdout",
     "output_type": "stream",
     "text": [
      "Toshiba Portege Z830-S8301 13.3-Inch Netbook Computer\n"
     ]
    }
   ],
   "source": [
    "sem3.products_field(\"upc\", \"883974958450\")\n",
    "sem3.products_field(\"fields\", [\"name\",\"gtins\"])\n",
    "\n",
    "# Run the request\n",
    "results = sem3.get_products()\n",
    "\n",
    "# View the results of the request\n",
    "print(results['results'][0]['name']) "
   ]
  }
 ],
 "metadata": {
  "kernelspec": {
   "display_name": "Python 3",
   "language": "python",
   "name": "python3"
  },
  "language_info": {
   "codemirror_mode": {
    "name": "ipython",
    "version": 3
   },
   "file_extension": ".py",
   "mimetype": "text/x-python",
   "name": "python",
   "nbconvert_exporter": "python",
   "pygments_lexer": "ipython3",
   "version": "3.6.5"
  }
 },
 "nbformat": 4,
 "nbformat_minor": 2
}
